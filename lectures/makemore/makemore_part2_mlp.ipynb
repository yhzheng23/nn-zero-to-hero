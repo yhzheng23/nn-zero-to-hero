{
 "cells": [
  {
   "cell_type": "code",
   "execution_count": 1,
   "metadata": {},
   "outputs": [],
   "source": [
    "import torch\n",
    "import torch.nn.functional as F\n",
    "import matplotlib.pyplot as plt # for making figures\n",
    "%matplotlib inline"
   ]
  },
  {
   "cell_type": "code",
   "execution_count": 2,
   "metadata": {},
   "outputs": [
    {
     "data": {
      "text/plain": [
       "['emma', 'olivia', 'ava', 'isabella', 'sophia', 'charlotte', 'mia', 'amelia']"
      ]
     },
     "execution_count": 2,
     "metadata": {},
     "output_type": "execute_result"
    }
   ],
   "source": [
    "# read in all the words\n",
    "words = open('names.txt', 'r').read().splitlines()\n",
    "words[:8]"
   ]
  },
  {
   "cell_type": "code",
   "execution_count": 3,
   "metadata": {},
   "outputs": [
    {
     "data": {
      "text/plain": [
       "32033"
      ]
     },
     "execution_count": 3,
     "metadata": {},
     "output_type": "execute_result"
    }
   ],
   "source": [
    "len(words)"
   ]
  },
  {
   "cell_type": "code",
   "execution_count": 4,
   "metadata": {},
   "outputs": [
    {
     "name": "stdout",
     "output_type": "stream",
     "text": [
      "{1: 'a', 2: 'b', 3: 'c', 4: 'd', 5: 'e', 6: 'f', 7: 'g', 8: 'h', 9: 'i', 10: 'j', 11: 'k', 12: 'l', 13: 'm', 14: 'n', 15: 'o', 16: 'p', 17: 'q', 18: 'r', 19: 's', 20: 't', 21: 'u', 22: 'v', 23: 'w', 24: 'x', 25: 'y', 26: 'z', 0: '.'}\n"
     ]
    }
   ],
   "source": [
    "# build the vocabulary of characters and mappings to/from integers\n",
    "chars = sorted(list(set(''.join(words))))\n",
    "stoi = {s:i+1 for i,s in enumerate(chars)}\n",
    "stoi['.'] = 0\n",
    "itos = {i:s for s,i in stoi.items()}\n",
    "print(itos)"
   ]
  },
  {
   "cell_type": "code",
   "execution_count": 5,
   "metadata": {},
   "outputs": [],
   "source": [
    "# build the dataset\n",
    "\n",
    "block_size = 3 # context length: how many characters do we take to predict the next one?\n",
    "X, Y = [], []\n",
    "for w in words:\n",
    "  \n",
    "  #print(w)\n",
    "  context = [0] * block_size\n",
    "  for ch in w + '.':\n",
    "    ix = stoi[ch]\n",
    "    X.append(context)\n",
    "    Y.append(ix)\n",
    "    #print(''.join(itos[i] for i in context), '--->', itos[ix])\n",
    "    context = context[1:] + [ix] # crop and append\n",
    "  \n",
    "X = torch.tensor(X)\n",
    "Y = torch.tensor(Y)"
   ]
  },
  {
   "cell_type": "code",
   "execution_count": 6,
   "metadata": {},
   "outputs": [
    {
     "data": {
      "text/plain": [
       "(torch.Size([228146, 3]), torch.int64, torch.Size([228146]), torch.int64)"
      ]
     },
     "execution_count": 6,
     "metadata": {},
     "output_type": "execute_result"
    }
   ],
   "source": [
    "X.shape, X.dtype, Y.shape, Y.dtype"
   ]
  },
  {
   "cell_type": "code",
   "execution_count": null,
   "metadata": {},
   "outputs": [
    {
     "name": "stdout",
     "output_type": "stream",
     "text": [
      "torch.Size([182625, 3]) torch.Size([182625])\n",
      "torch.Size([22655, 3]) torch.Size([22655])\n",
      "torch.Size([22866, 3]) torch.Size([22866])\n"
     ]
    }
   ],
   "source": [
    "# build the dataset\n",
    "block_size = 3 # context length: how many characters do we take to predict the next one?\n",
    "\n",
    "def build_dataset(words):  \n",
    "  X, Y = [], []\n",
    "  for w in words:\n",
    "\n",
    "    #print(w)\n",
    "    context = [0] * block_size\n",
    "    for ch in w + '.':\n",
    "      ix = stoi[ch]\n",
    "      X.append(context)\n",
    "      Y.append(ix)\n",
    "      #print(''.join(itos[i] for i in context), '--->', itos[ix])\n",
    "      context = context[1:] + [ix] # crop and append\n",
    "\n",
    "  X = torch.tensor(X)\n",
    "  Y = torch.tensor(Y)\n",
    "  print(X.shape, Y.shape)\n",
    "  return X, Y\n",
    "\n",
    "import random\n",
    "random.seed(42)\n",
    "random.shuffle(words)\n",
    "n1 = int(0.8*len(words))\n",
    "n2 = int(0.9*len(words))\n",
    "\n",
    "# training split, dev/validation split, test split\n",
    "# 80%, 10%, 10%\n",
    "Xtr, Ytr = build_dataset(words[:n1])\n",
    "Xdev, Ydev = build_dataset(words[n1:n2])\n",
    "Xte, Yte = build_dataset(words[n2:])\n"
   ]
  },
  {
   "cell_type": "code",
   "execution_count": 41,
   "metadata": {},
   "outputs": [
    {
     "data": {
      "text/plain": [
       "torch.Size([228146, 3, 2])"
      ]
     },
     "execution_count": 41,
     "metadata": {},
     "output_type": "execute_result"
    }
   ],
   "source": [
    "# embedding layer, 27 characters to 2 dimensions\n",
    "C = torch.randn((27, 2))\n",
    "emb = C[X]\n",
    "emb.shape"
   ]
  },
  {
   "cell_type": "code",
   "execution_count": 42,
   "metadata": {},
   "outputs": [],
   "source": [
    "# hidden layer, 100 neurons\n",
    "W1 = torch.randn((6, 100))\n",
    "b1 = torch.randn(100)"
   ]
  },
  {
   "cell_type": "code",
   "execution_count": 43,
   "metadata": {},
   "outputs": [],
   "source": [
    "# use view to reshape the embedding output, concatenate the 3 2-dimensional vectors into a single 6-dimensional vector\n",
    "# then do a linear transformation, then a non-linear activation function (tanh)\n",
    "h = torch.tanh(emb.view(-1, 6) @ W1 + b1)"
   ]
  },
  {
   "cell_type": "code",
   "execution_count": 12,
   "metadata": {},
   "outputs": [
    {
     "data": {
      "text/plain": [
       "tensor([[ 0.6343,  0.9965,  0.9544,  ..., -0.0290,  0.7658,  0.3811],\n",
       "        [-0.7151,  0.9873,  0.9753,  ..., -0.7006,  0.2889,  0.9578],\n",
       "        [-0.6208, -0.9946,  0.9907,  ..., -0.9993,  0.8987,  0.9977],\n",
       "        ...,\n",
       "        [ 0.8332,  0.9806,  0.8011,  ..., -0.8504,  0.4482, -0.9830],\n",
       "        [-0.2783,  0.9995,  0.9935,  ..., -0.9938, -0.3179, -0.8821],\n",
       "        [-0.9976,  0.9815,  0.8544,  ..., -0.9879, -0.9421,  0.2748]])"
      ]
     },
     "execution_count": 12,
     "metadata": {},
     "output_type": "execute_result"
    }
   ],
   "source": [
    "h"
   ]
  },
  {
   "cell_type": "code",
   "execution_count": 13,
   "metadata": {},
   "outputs": [
    {
     "data": {
      "text/plain": [
       "torch.Size([228146, 100])"
      ]
     },
     "execution_count": 13,
     "metadata": {},
     "output_type": "execute_result"
    }
   ],
   "source": [
    "h.shape"
   ]
  },
  {
   "cell_type": "code",
   "execution_count": 44,
   "metadata": {},
   "outputs": [],
   "source": [
    "# softmax layer, 27 neurons\n",
    "W2 = torch.randn((100, 27))\n",
    "b2 = torch.randn(27)"
   ]
  },
  {
   "cell_type": "code",
   "execution_count": 45,
   "metadata": {},
   "outputs": [],
   "source": [
    "logits = h @ W2 + b2\n",
    "# compute the loss\n",
    "# counts = logits.exp()\n",
    "# prob = counts / counts.sum(1, keepdims=True)\n",
    "# loss = -prob[torch.arange(228146), Y].log().mean()\n",
    "\n",
    "# use cross_entropy from PyTorch, which combines log-softmax and nll-loss in one function\n",
    "loss = F.cross_entropy(logits, Y)"
   ]
  },
  {
   "cell_type": "code",
   "execution_count": 46,
   "metadata": {},
   "outputs": [],
   "source": [
    "for p in [C, W1, b1, W2, b2]:\n",
    "        p.requires_grad = True"
   ]
  },
  {
   "cell_type": "code",
   "execution_count": null,
   "metadata": {},
   "outputs": [
    {
     "name": "stdout",
     "output_type": "stream",
     "text": [
      "15.69314193725586\n",
      "3.6061911582946777\n",
      "3.069369316101074\n",
      "2.8768651485443115\n",
      "2.776315212249756\n",
      "2.71822190284729\n",
      "2.679394245147705\n",
      "2.6470346450805664\n",
      "2.613149642944336\n",
      "2.587681531906128\n"
     ]
    }
   ],
   "source": [
    "# training loop\n",
    "for _ in range(1000):\n",
    "    # forward pass\n",
    "    emb = C[X]\n",
    "    h = torch.tanh(emb.view(-1, 6) @ W1 + b1)\n",
    "    logits = h @ W2 + b2\n",
    "    loss = F.cross_entropy(logits, Y)\n",
    "\n",
    "    # backward pass\n",
    "    for p in [C, W1, b1, W2, b2]:\n",
    "        p.grad = None\n",
    "    loss.backward()\n",
    "\n",
    "    # update\n",
    "    lr = 0.1\n",
    "    for p in [C, W1, b1, W2, b2]:\n",
    "        p.data += -lr * p.grad\n",
    "\n",
    "    if _ % 100 == 0:\n",
    "        print(loss.item())"
   ]
  },
  {
   "cell_type": "code",
   "execution_count": 48,
   "metadata": {},
   "outputs": [
    {
     "name": "stdout",
     "output_type": "stream",
     "text": [
      "2.600337266921997\n",
      "2.5641870498657227\n",
      "2.798398494720459\n",
      "2.783745288848877\n",
      "2.6247293949127197\n",
      "2.6927261352539062\n",
      "2.224393129348755\n",
      "2.489394426345825\n",
      "2.9264581203460693\n",
      "2.4776856899261475\n"
     ]
    }
   ],
   "source": [
    "# iteratively train on minibatches of 32, faster than full-batch, roughly the same gradient direction as well as same result\n",
    "batch_size = 32\n",
    "for _ in range(1000):\n",
    "    # create minibatch\n",
    "    ix = torch.randint(0, Xtr.shape[0], (batch_size,))\n",
    "    \n",
    "    # forward pass\n",
    "    emb = C[X[ix]]\n",
    "    h = torch.tanh(emb.view(-1, 6) @ W1 + b1)\n",
    "    logits = h @ W2 + b2\n",
    "    loss = F.cross_entropy(logits, Y[ix])\n",
    "\n",
    "    # backward pass\n",
    "    for p in [C, W1, b1, W2, b2]:\n",
    "        p.grad = None\n",
    "    loss.backward()\n",
    "\n",
    "    # update\n",
    "    lr = 0.1\n",
    "    for p in [C, W1, b1, W2, b2]:\n",
    "        p.data += -lr * p.grad\n",
    "\n",
    "    if _ % 100 == 0:\n",
    "        print(loss.item())"
   ]
  },
  {
   "cell_type": "code",
   "execution_count": null,
   "metadata": {},
   "outputs": [],
   "source": [
    "# put it all together\n",
    "g = torch.Generator().manual_seed(2147483647) # for reproducibility\n",
    "C = torch.randn((27, 10), generator=g) # embedding layer, 27 characters to 10 dimensions；more dimensions, more capacity.\n",
    "W1 = torch.randn((30, 200), generator=g)\n",
    "b1 = torch.randn(200, generator=g)\n",
    "W2 = torch.randn((200, 27), generator=g)\n",
    "b2 = torch.randn(27, generator=g)\n",
    "parameters = [C, W1, b1, W2, b2]"
   ]
  },
  {
   "cell_type": "code",
   "execution_count": 50,
   "metadata": {},
   "outputs": [
    {
     "data": {
      "text/plain": [
       "11897"
      ]
     },
     "execution_count": 50,
     "metadata": {},
     "output_type": "execute_result"
    }
   ],
   "source": [
    "sum(p.nelement() for p in parameters) # number of parameters in total"
   ]
  },
  {
   "cell_type": "code",
   "execution_count": 75,
   "metadata": {},
   "outputs": [],
   "source": [
    "for p in parameters:\n",
    "  p.requires_grad = True"
   ]
  },
  {
   "cell_type": "code",
   "execution_count": 52,
   "metadata": {},
   "outputs": [],
   "source": [
    "# line rate finder\n",
    "lre = torch.linspace(-3, 0, 1000) # linear in exponential space\n",
    "lrs = 10**lre # from 0.001 to 1"
   ]
  },
  {
   "cell_type": "code",
   "execution_count": null,
   "metadata": {},
   "outputs": [],
   "source": [
    "# finding proper learning rate, usually between 0.001 to 0.1\n",
    "# 1. gradually increase the learning rate\n",
    "# 2. plot the loss vs learning rate in log-log scale\n",
    "\n",
    "lri = []\n",
    "lossi = []\n",
    "stepi = []\n",
    "\n",
    "for i in range(1000):\n",
    "  \n",
    "  # minibatch construct\n",
    "  ix = torch.randint(0, Xtr.shape[0], (32,))\n",
    "  \n",
    "  # forward pass\n",
    "  emb = C[Xtr[ix]] # (32, 3, 10)\n",
    "  h = torch.tanh(emb.view(-1, 30) @ W1 + b1) # (32, 200)\n",
    "  logits = h @ W2 + b2 # (32, 27)\n",
    "  loss = F.cross_entropy(logits, Ytr[ix])\n",
    "  #print(loss.item())\n",
    "  \n",
    "  # backward pass\n",
    "  for p in parameters:\n",
    "    p.grad = None\n",
    "  loss.backward()\n",
    "  \n",
    "  # update\n",
    "  lr = lrs[i]\n",
    "  #lr = 0.1 if i < 100000 else 0.01\n",
    "  for p in parameters:\n",
    "    p.data += -lr * p.grad\n",
    "\n",
    "  # track stats\n",
    "  lri.append(lre[i])\n",
    "  stepi.append(i)\n",
    "  lossi.append(loss.log10().item())\n",
    "\n",
    "#print(loss.item())"
   ]
  },
  {
   "cell_type": "code",
   "execution_count": null,
   "metadata": {},
   "outputs": [
    {
     "data": {
      "text/plain": [
       "[<matplotlib.lines.Line2D at 0x123a22dc0>]"
      ]
     },
     "execution_count": 57,
     "metadata": {},
     "output_type": "execute_result"
    },
    {
     "data": {
      "image/png": "[encoded data removed]",
      "text/plain": [
       "<Figure size 640x480 with 1 Axes>"
      ]
     },
     "metadata": {},
     "output_type": "display_data"
    }
   ],
   "source": [
    "plt.plot(lri, lossi)\n",
    "# valley around -1.0 to -0.5, corresponding to learning rate 0.1 to 0.3, choose 0.1 as learning rate"
   ]
  },
  {
   "cell_type": "code",
   "execution_count": 76,
   "metadata": {},
   "outputs": [
    {
     "name": "stdout",
     "output_type": "stream",
     "text": [
      "0 26.45479393005371\n",
      "1000 3.8963942527770996\n",
      "2000 3.4526302814483643\n",
      "3000 2.2191357612609863\n",
      "4000 2.5030789375305176\n",
      "5000 2.448460578918457\n",
      "6000 3.2482903003692627\n",
      "7000 2.7343578338623047\n",
      "8000 2.682762622833252\n",
      "9000 2.1294095516204834\n",
      "10000 2.363013744354248\n",
      "11000 2.6262598037719727\n",
      "12000 2.572620153427124\n",
      "13000 2.303680181503296\n",
      "14000 2.2222540378570557\n",
      "15000 2.308669328689575\n",
      "16000 2.551140308380127\n",
      "17000 2.6269583702087402\n",
      "18000 2.2888152599334717\n",
      "19000 2.5196616649627686\n",
      "20000 2.1752731800079346\n",
      "21000 2.175544261932373\n",
      "22000 1.9568064212799072\n",
      "23000 2.6510446071624756\n",
      "24000 3.033013343811035\n",
      "25000 2.8687045574188232\n",
      "26000 3.0626344680786133\n",
      "27000 2.657564640045166\n",
      "28000 2.034787178039551\n",
      "29000 2.7063686847686768\n",
      "30000 2.2750046253204346\n",
      "31000 2.407927989959717\n",
      "32000 2.0616085529327393\n",
      "33000 2.4612221717834473\n",
      "34000 2.4844725131988525\n",
      "35000 2.255603790283203\n",
      "36000 2.5110411643981934\n",
      "37000 2.4428279399871826\n",
      "38000 2.019404888153076\n",
      "39000 2.2281129360198975\n",
      "40000 2.9102141857147217\n",
      "41000 2.2204582691192627\n",
      "42000 2.578867197036743\n",
      "43000 2.5000226497650146\n",
      "44000 2.4421324729919434\n",
      "45000 2.5292646884918213\n",
      "46000 2.5388035774230957\n",
      "47000 2.0831282138824463\n",
      "48000 2.7790687084198\n",
      "49000 2.473553419113159\n",
      "50000 2.144883632659912\n",
      "51000 1.8647782802581787\n",
      "52000 2.6269421577453613\n",
      "53000 2.171424388885498\n",
      "54000 2.0254836082458496\n",
      "55000 2.378347873687744\n",
      "56000 1.8015165328979492\n",
      "57000 2.162825584411621\n",
      "58000 2.7440545558929443\n",
      "59000 1.9478133916854858\n",
      "60000 2.193840980529785\n",
      "61000 2.4247474670410156\n",
      "62000 2.640885591506958\n",
      "63000 2.0398108959198\n",
      "64000 2.080545425415039\n",
      "65000 2.364750862121582\n",
      "66000 2.3041234016418457\n",
      "67000 2.1899569034576416\n",
      "68000 2.4723474979400635\n",
      "69000 2.2801592350006104\n",
      "70000 2.0831823348999023\n",
      "71000 2.1698453426361084\n",
      "72000 1.9761683940887451\n",
      "73000 2.534698247909546\n",
      "74000 2.0507073402404785\n",
      "75000 2.076808452606201\n",
      "76000 2.1231470108032227\n",
      "77000 1.981990933418274\n",
      "78000 2.497103691101074\n",
      "79000 2.8091228008270264\n",
      "80000 2.2603085041046143\n",
      "81000 2.3963067531585693\n",
      "82000 2.5131120681762695\n",
      "83000 2.4806530475616455\n",
      "84000 1.9617007970809937\n",
      "85000 2.363029718399048\n",
      "86000 1.8190971612930298\n",
      "87000 2.338773488998413\n",
      "88000 1.8494597673416138\n",
      "89000 1.9338616132736206\n",
      "90000 2.2564756870269775\n",
      "91000 2.3080573081970215\n",
      "92000 2.1074047088623047\n",
      "93000 2.1818838119506836\n",
      "94000 2.305635452270508\n",
      "95000 1.929742693901062\n",
      "96000 2.0709874629974365\n",
      "97000 2.289808988571167\n",
      "98000 2.381882429122925\n",
      "99000 2.2942638397216797\n",
      "100000 2.475911855697632\n",
      "101000 2.2229154109954834\n",
      "102000 2.52376651763916\n",
      "103000 2.107321262359619\n",
      "104000 2.085740327835083\n",
      "105000 2.095517635345459\n",
      "106000 1.8621344566345215\n",
      "107000 2.224823236465454\n",
      "108000 2.1363563537597656\n",
      "109000 1.7068041563034058\n",
      "110000 2.281067132949829\n",
      "111000 2.3706750869750977\n",
      "112000 1.8691060543060303\n",
      "113000 2.7174017429351807\n",
      "114000 2.104562759399414\n",
      "115000 1.9510467052459717\n",
      "116000 2.1151747703552246\n",
      "117000 2.1513144969940186\n",
      "118000 2.0944995880126953\n",
      "119000 2.1330838203430176\n",
      "120000 2.2460968494415283\n",
      "121000 2.1759729385375977\n",
      "122000 2.2034244537353516\n",
      "123000 1.749271273612976\n",
      "124000 2.3238327503204346\n",
      "125000 2.396944046020508\n",
      "126000 2.005232572555542\n",
      "127000 2.343355655670166\n",
      "128000 1.8836485147476196\n",
      "129000 2.2551567554473877\n",
      "130000 2.0763587951660156\n",
      "131000 2.0577592849731445\n",
      "132000 1.9057331085205078\n",
      "133000 2.0892677307128906\n",
      "134000 2.067535638809204\n",
      "135000 1.907738447189331\n",
      "136000 2.214520215988159\n",
      "137000 2.4273176193237305\n",
      "138000 2.057119131088257\n",
      "139000 2.1925477981567383\n",
      "140000 2.151303291320801\n",
      "141000 2.0694429874420166\n",
      "142000 2.3980300426483154\n",
      "143000 1.8939200639724731\n",
      "144000 2.178459882736206\n",
      "145000 2.348843812942505\n",
      "146000 2.263947010040283\n",
      "147000 1.8554859161376953\n",
      "148000 1.8286603689193726\n",
      "149000 2.0547215938568115\n",
      "150000 2.0102615356445312\n",
      "151000 2.3626105785369873\n",
      "152000 1.8798303604125977\n",
      "153000 2.2449002265930176\n",
      "154000 2.379406452178955\n",
      "155000 2.1163172721862793\n",
      "156000 2.0397160053253174\n",
      "157000 1.7079718112945557\n",
      "158000 2.1571547985076904\n",
      "159000 1.8894362449645996\n",
      "160000 1.7834151983261108\n",
      "161000 1.9923886060714722\n",
      "162000 2.371394395828247\n",
      "163000 2.232642412185669\n",
      "164000 2.5098650455474854\n",
      "165000 1.9155182838439941\n",
      "166000 2.4562814235687256\n",
      "167000 2.1560022830963135\n",
      "168000 1.888914704322815\n",
      "169000 1.973137378692627\n",
      "170000 2.094208240509033\n",
      "171000 2.286189317703247\n",
      "172000 2.42098069190979\n",
      "173000 2.6109492778778076\n",
      "174000 2.0589797496795654\n",
      "175000 2.171271800994873\n",
      "176000 2.080211639404297\n",
      "177000 1.8229953050613403\n",
      "178000 1.6177265644073486\n",
      "179000 1.891294240951538\n",
      "180000 1.9782018661499023\n",
      "181000 1.6880707740783691\n",
      "182000 2.2190945148468018\n",
      "183000 1.868787407875061\n",
      "184000 1.9919459819793701\n",
      "185000 2.193145513534546\n",
      "186000 2.3672704696655273\n",
      "187000 2.0027542114257812\n",
      "188000 2.1616451740264893\n",
      "189000 2.467858076095581\n",
      "190000 1.8988208770751953\n",
      "191000 2.150806188583374\n",
      "192000 1.9071686267852783\n",
      "193000 1.933651089668274\n",
      "194000 2.37955641746521\n",
      "195000 2.075594186782837\n",
      "196000 2.1112945079803467\n",
      "197000 1.925667643547058\n",
      "198000 2.4060561656951904\n",
      "199000 2.4027843475341797\n"
     ]
    }
   ],
   "source": [
    "for i in range(200000):\n",
    "  \n",
    "  # minibatch construct\n",
    "  ix = torch.randint(0, Xtr.shape[0], (32,))\n",
    "  \n",
    "  # forward pass\n",
    "  emb = C[Xtr[ix]] # (32, 3, 10)\n",
    "  h = torch.tanh(emb.view(-1, 30) @ W1 + b1) # (32, 200)\n",
    "  logits = h @ W2 + b2 # (32, 27)\n",
    "  loss = F.cross_entropy(logits, Ytr[ix])\n",
    "  #print(loss.item())\n",
    "  \n",
    "  # backward pass\n",
    "  for p in parameters:\n",
    "    p.grad = None\n",
    "  loss.backward()\n",
    "  \n",
    "  # update\n",
    "  lr = 0.1 if i < 100000 else 0.01 # learning rate decay\n",
    "  for p in parameters:\n",
    "    p.data += -lr * p.grad\n",
    "\n",
    "  if i % 1000 == 0:\n",
    "    print(i, loss.item())\n"
   ]
  },
  {
   "cell_type": "code",
   "execution_count": 71,
   "metadata": {},
   "outputs": [
    {
     "data": {
      "text/plain": [
       "tensor(2.1266, grad_fn=<NllLossBackward0>)"
      ]
     },
     "execution_count": 71,
     "metadata": {},
     "output_type": "execute_result"
    }
   ],
   "source": [
    "emb = C[Xtr] # (32, 3, 2)\n",
    "h = torch.tanh(emb.view(-1, 30) @ W1 + b1) # (32, 100)\n",
    "logits = h @ W2 + b2 # (32, 27)\n",
    "loss = F.cross_entropy(logits, Ytr)\n",
    "loss"
   ]
  },
  {
   "cell_type": "code",
   "execution_count": 72,
   "metadata": {},
   "outputs": [
    {
     "data": {
      "text/plain": [
       "tensor(2.1664, grad_fn=<NllLossBackward0>)"
      ]
     },
     "execution_count": 72,
     "metadata": {},
     "output_type": "execute_result"
    }
   ],
   "source": [
    "emb = C[Xdev] # (32, 3, 2)\n",
    "h = torch.tanh(emb.view(-1, 30) @ W1 + b1) # (32, 100)\n",
    "logits = h @ W2 + b2 # (32, 27)\n",
    "loss = F.cross_entropy(logits, Ydev)\n",
    "loss"
   ]
  },
  {
   "cell_type": "code",
   "execution_count": 710,
   "metadata": {},
   "outputs": [
    {
     "data": {
      "image/png": "[encoded data removed]",
      "text/plain": [
       "<Figure size 576x576 with 1 Axes>"
      ]
     },
     "metadata": {
      "needs_background": "light"
     },
     "output_type": "display_data"
    }
   ],
   "source": [
    "# visualize dimensions 0 and 1 of the embedding matrix C for all characters\n",
    "plt.figure(figsize=(8,8))\n",
    "plt.scatter(C[:,0].data, C[:,1].data, s=200)\n",
    "for i in range(C.shape[0]):\n",
    "    plt.text(C[i,0].item(), C[i,1].item(), itos[i], ha=\"center\", va=\"center\", color='white')\n",
    "plt.grid('minor')"
   ]
  },
  {
   "cell_type": "markdown",
   "metadata": {},
   "source": [
    "hyper parameters:\n",
    "context size, embedding dimension, hidden neurons, training loops, learning rate"
   ]
  },
  {
   "cell_type": "code",
   "execution_count": 77,
   "metadata": {},
   "outputs": [
    {
     "name": "stdout",
     "output_type": "stream",
     "text": [
      "mohaalmyanna.\n",
      "elme.\n",
      "hayla.\n",
      "rethruckadrie.\n",
      "cadered.\n",
      "eliah.\n",
      "miloparekeiseananar.\n",
      "elle.\n",
      "malara.\n",
      "nosadbergiairiel.\n",
      "jenie.\n",
      "jenelle.\n",
      "pulmoura.\n",
      "ged.\n",
      "ryyah.\n",
      "fael.\n",
      "yuma.\n",
      "myston.\n",
      "mahia.\n",
      "calyansuf.\n"
     ]
    }
   ],
   "source": [
    "\n",
    "\n",
    "# sample from the model\n",
    "g = torch.Generator().manual_seed(2147483647 + 10)\n",
    "\n",
    "for _ in range(20):\n",
    "    \n",
    "    out = []\n",
    "    context = [0] * block_size # initialize with all ...\n",
    "    while True:\n",
    "      emb = C[torch.tensor([context])] # (1,block_size,d)\n",
    "      h = torch.tanh(emb.view(1, -1) @ W1 + b1)\n",
    "      logits = h @ W2 + b2\n",
    "      probs = F.softmax(logits, dim=1) # use softmax to convert to probabilities\n",
    "      ix = torch.multinomial(probs, num_samples=1, generator=g).item()\n",
    "      context = context[1:] + [ix]\n",
    "      out.append(ix)\n",
    "      if ix == 0:\n",
    "        break\n",
    "    \n",
    "    print(''.join(itos[i] for i in out))"
   ]
  }
 ],
 "metadata": {
  "kernelspec": {
   "display_name": "deeplearning",
   "language": "python",
   "name": "python3"
  },
  "language_info": {
   "codemirror_mode": {
    "name": "ipython",
    "version": 3
   },
   "file_extension": ".py",
   "mimetype": "text/x-python",
   "name": "python",
   "nbconvert_exporter": "python",
   "pygments_lexer": "ipython3",
   "version": "3.9.6"
  }
 },
 "nbformat": 4,
 "nbformat_minor": 4
}
